{
  "cells": [
    {
      "cell_type": "markdown",
      "metadata": {},
      "source": [
        "# Fisher Information and Effective Dimension\n",
        "\n",
        "This Jupyter notebook was created by [Umberto Borso](https://www.linkedin.com/in/umberto-borso-1990a11a1/) and is part of the Semester Project titled *\"Quantum Advantage in Machine Learning: Investigating Entanglement and Quantum Feature Maps in Neural Networks\"*. This nootebook contains part of the code used to analyze how the design choices of different Quantum feature maps and Variational Circuits affect the performance of a Quantum Neural Network in terms of Fisher Information and Effective Dimension. "
      ]
    },
    {
      "cell_type": "code",
      "execution_count": null,
      "metadata": {
        "id": "639omFCkKpsm"
      },
      "outputs": [],
      "source": [
        "from qiskit import QuantumCircuit\n",
        "from qiskit.algorithms.optimizers import COBYLA\n",
        "from qiskit.circuit.library import ZFeatureMap, RealAmplitudes, ZZFeatureMap, ExcitationPreserving, PauliFeatureMap\n",
        "\n",
        "from qiskit.utils import algorithm_globals"
      ]
    },
    {
      "cell_type": "code",
      "execution_count": null,
      "metadata": {
        "colab": {
          "base_uri": "https://localhost:8080/"
        },
        "id": "Cgtp1xX7-vBY",
        "outputId": "d6d5804d-c575-4a68-95bf-77809e317864"
      },
      "outputs": [
        {
          "name": "stdout",
          "output_type": "stream",
          "text": [
            "Mounted at /content/drive\n"
          ]
        }
      ],
      "source": [
        "import os, sys\n",
        "from google.colab import drive\n",
        "drive.mount('/content/drive')\n",
        "nb_path = '/content/drive/MyDrive/Colab Notebooks/libraries'\n",
        "sys.path.insert(0, nb_path)  # or append(nb_path)"
      ]
    },
    {
      "cell_type": "code",
      "execution_count": null,
      "metadata": {
        "id": "-GaMve5Q7_NA"
      },
      "outputs": [],
      "source": [
        "import matplotlib.pyplot as plt\n",
        "import numpy as np\n",
        "from IPython.display import clear_output\n",
        "from sklearn.datasets import make_classification\n",
        "from sklearn.preprocessing import MinMaxScaler"
      ]
    },
    {
      "cell_type": "code",
      "execution_count": null,
      "metadata": {
        "id": "tjQCpmBC6vBW"
      },
      "outputs": [],
      "source": [
        "sys.path.append('/content/drive/MyDrive/Colab Notebooks/qiskit-machine-learning-main')\n",
        "\n",
        "from qiskit_machine_learning.algorithms.classifiers import NeuralNetworkClassifier\n",
        "from qiskit_machine_learning.neural_networks import EffectiveDimension, LocalEffectiveDimension\n",
        "from qiskit_machine_learning.neural_networks import SamplerQNN, EstimatorQNN"
      ]
    },
    {
      "cell_type": "code",
      "execution_count": null,
      "metadata": {
        "id": "wGpVStgb8J4F"
      },
      "outputs": [],
      "source": [
        "n = [1000, 2000, 8000, 10000, 40000, 60000, 100000, 150000, 200000, 500000, 1000000]\n",
        "blocks = 9\n",
        "###################################################################################\n",
        "num_qubits = 4\n",
        "# we can set the total number of input samples and weight samples for random selection\n",
        "num_input_samples = 100\n",
        "num_weight_samples = 100\n"
      ]
    },
    {
      "cell_type": "code",
      "execution_count": null,
      "metadata": {
        "colab": {
          "base_uri": "https://localhost:8080/"
        },
        "id": "C_leU3ZvdcVx",
        "outputId": "b92d1379-2d38-48eb-d6de-c1eb7606ae49"
      },
      "outputs": [
        {
          "data": {
            "text/plain": [
              "<qiskit.circuit.instructionset.InstructionSet at 0x7fc8123dfcd0>"
            ]
          },
          "execution_count": 7,
          "metadata": {},
          "output_type": "execute_result"
        }
      ],
      "source": [
        "# create a feature map\n",
        "feature_map = ZZFeatureMap(4, reps=1)\n",
        "# create a variational circuit\n",
        "ansatz = ExcitationPreserving(4, reps=5, insert_barriers=True, entanglement='sca',skip_final_rotation_layer=True)\n",
        "\n",
        "\n",
        "qc = QuantumCircuit(num_qubits)\n",
        "qc.append(feature_map, range(num_qubits))\n",
        "qc.append(ansatz, range(num_qubits))\n"
      ]
    },
    {
      "cell_type": "code",
      "execution_count": null,
      "metadata": {
        "colab": {
          "base_uri": "https://localhost:8080/"
        },
        "id": "HhZ074rY_WWi",
        "outputId": "a43ebd0d-52c2-4e0a-eb2d-ecd8ec241605"
      },
      "outputs": [
        {
          "name": "stdout",
          "output_type": "stream",
          "text": [
            "40\n"
          ]
        }
      ],
      "source": [
        "# parity maps bitstrings to 0 or 1\n",
        "def parity(x):\n",
        "    return \"{:b}\".format(x).count(\"1\") % 2\n",
        "\n",
        "\n",
        "output_shape = 2  # corresponds to the number of classes, possible outcomes of the (parity) mapping.\n",
        "# construct QNN\n",
        "qnn = SamplerQNN(\n",
        "    circuit=qc,\n",
        "    input_params=feature_map.parameters,\n",
        "    weight_params=ansatz.parameters,\n",
        "    interpret=parity,\n",
        "    output_shape=output_shape,\n",
        "    sparse=False,\n",
        ")\n",
        "\n",
        "\n",
        "global_ed = EffectiveDimension(\n",
        "    qnn=qnn, weight_samples=num_weight_samples, input_samples=num_input_samples\n",
        ")\n",
        "\n",
        "d = qnn.num_weights\n",
        "print(d)"
      ]
    },
    {
      "cell_type": "code",
      "execution_count": null,
      "metadata": {
        "colab": {
          "base_uri": "https://localhost:8080/",
          "height": 49,
          "referenced_widgets": [
            "76796000b24e4b52a0c0b8d8294453e7",
            "bcab7d5d5f644d61889bf8ad95c582b1",
            "61f99a04d7bb4da7824806e24a56cd7a",
            "34d2a2ce7c88479faf69afe46992acee",
            "5b8bd25d3e4746b5a90d9b1b9baa040e",
            "5a874ed306364807be3e45a79f77801b",
            "c4efae8371a94609976d93b7a85b2bc3",
            "209e280c5415413aae55c97c2376b6c9",
            "b46d0075f3744d44b30def61163a6017",
            "d25edab127e34ffb9de8dfb221485739",
            "d01b7affef174533b12d8d4e865f9671"
          ]
        },
        "id": "E1v8YICt_fFC",
        "outputId": "7909754d-e452-4e41-ed13-52e57504b69c"
      },
      "outputs": [
        {
          "data": {
            "application/vnd.jupyter.widget-view+json": {
              "model_id": "76796000b24e4b52a0c0b8d8294453e7",
              "version_major": 2,
              "version_minor": 0
            },
            "text/plain": [
              "  0%|          | 0/100 [00:00<?, ?it/s]"
            ]
          },
          "metadata": {},
          "output_type": "display_data"
        }
      ],
      "source": [
        "grads, output = global_ed.run_monte_carlo()\n",
        "\n",
        "np.save(\"/content/drive/MyDrive/Colab Notebooks/ExcitPres_sca_grads.npy\", grads)\n",
        "np.save(\"/content/drive/MyDrive/Colab Notebooks/ExcitPres_sca_output.npy\", output)\n"
      ]
    },
    {
      "cell_type": "code",
      "execution_count": null,
      "metadata": {
        "id": "d3b4vQBHTjpS"
      },
      "outputs": [],
      "source": [
        "grads = np.load(\"/content/drive/MyDrive/Colab Notebooks/Circuit_2_grads.npy\")\n",
        "output = np.load(\"/content/drive/MyDrive/Colab Notebooks/Circuit_2_output.npy\")"
      ]
    },
    {
      "cell_type": "code",
      "execution_count": null,
      "metadata": {
        "id": "GtXljwXZDpFB"
      },
      "outputs": [],
      "source": [
        "# step 2: compute as many fisher info. matrices as (input, params) sets\n",
        "fisher = global_ed.get_fisher_information(gradients=grads, model_outputs=output)\n",
        "\n",
        "# step 3: get normalized fisher info matrices\n",
        "normalized_fisher, _ = global_ed.get_normalized_fisher(fisher)\n",
        "\n",
        "# step 4: compute eff. dim\n",
        "effective_dimensions = global_ed._get_effective_dimension(normalized_fisher, n)"
      ]
    },
    {
      "cell_type": "code",
      "execution_count": null,
      "metadata": {
        "colab": {
          "base_uri": "https://localhost:8080/",
          "height": 240
        },
        "id": "p4_dO-pPDvUR",
        "outputId": "5cc041bb-4501-4981-c29f-d7fb920699ab"
      },
      "outputs": [
        {
          "ename": "NameError",
          "evalue": "ignored",
          "output_type": "error",
          "traceback": [
            "\u001b[0;31m---------------------------------------------------------------------------\u001b[0m",
            "\u001b[0;31mNameError\u001b[0m                                 Traceback (most recent call last)",
            "\u001b[0;32m<ipython-input-1-426d97b12c4a>\u001b[0m in \u001b[0;36m<cell line: 2>\u001b[0;34m()\u001b[0m\n\u001b[1;32m      1\u001b[0m \u001b[0;31m# plot the normalized effective dimension for the model\u001b[0m\u001b[0;34m\u001b[0m\u001b[0;34m\u001b[0m\u001b[0m\n\u001b[0;32m----> 2\u001b[0;31m \u001b[0mplt\u001b[0m\u001b[0;34m.\u001b[0m\u001b[0mplot\u001b[0m\u001b[0;34m(\u001b[0m\u001b[0mn\u001b[0m\u001b[0;34m,\u001b[0m \u001b[0mnp\u001b[0m\u001b[0;34m.\u001b[0m\u001b[0marray\u001b[0m\u001b[0;34m(\u001b[0m\u001b[0meffective_dimensions\u001b[0m\u001b[0;34m)\u001b[0m \u001b[0;34m/\u001b[0m \u001b[0md\u001b[0m\u001b[0;34m)\u001b[0m\u001b[0;34m\u001b[0m\u001b[0;34m\u001b[0m\u001b[0m\n\u001b[0m\u001b[1;32m      3\u001b[0m \u001b[0mplt\u001b[0m\u001b[0;34m.\u001b[0m\u001b[0mxlabel\u001b[0m\u001b[0;34m(\u001b[0m\u001b[0;34m\"Number of data\"\u001b[0m\u001b[0;34m)\u001b[0m\u001b[0;34m\u001b[0m\u001b[0;34m\u001b[0m\u001b[0m\n\u001b[1;32m      4\u001b[0m \u001b[0mplt\u001b[0m\u001b[0;34m.\u001b[0m\u001b[0mylabel\u001b[0m\u001b[0;34m(\u001b[0m\u001b[0;34m\"Normalized GLOBAL effective dimension\"\u001b[0m\u001b[0;34m)\u001b[0m\u001b[0;34m\u001b[0m\u001b[0;34m\u001b[0m\u001b[0m\n\u001b[1;32m      5\u001b[0m \u001b[0mplt\u001b[0m\u001b[0;34m.\u001b[0m\u001b[0mshow\u001b[0m\u001b[0;34m(\u001b[0m\u001b[0;34m)\u001b[0m\u001b[0;34m\u001b[0m\u001b[0;34m\u001b[0m\u001b[0m\n",
            "\u001b[0;31mNameError\u001b[0m: name 'plt' is not defined"
          ]
        }
      ],
      "source": [
        "# plot the normalized effective dimension for the model\n",
        "plt.plot(n, np.array(effective_dimensions) / d)\n",
        "plt.xlabel(\"Number of data\")\n",
        "plt.ylabel(\"Normalized GLOBAL effective dimension\")\n",
        "plt.show()"
      ]
    },
    {
      "cell_type": "code",
      "execution_count": null,
      "metadata": {
        "colab": {
          "base_uri": "https://localhost:8080/"
        },
        "id": "sUUOzieYVKxf",
        "outputId": "e1410ed4-c65b-49ca-8761-e7ad82e87b66"
      },
      "outputs": [
        {
          "name": "stderr",
          "output_type": "stream",
          "text": [
            "<ipython-input-15-6ce65aa844b3>:1: VisibleDeprecationWarning: Creating an ndarray from ragged nested sequences (which is a list-or-tuple of lists-or-tuples-or ndarrays with different lengths or shapes) is deprecated. If you meant to do this, you must specify 'dtype=object' when creating the ndarray.\n",
            "  fne = np.array([fisher,normalized_fisher,effective_dimensions])\n"
          ]
        }
      ],
      "source": [
        "fne = np.array([fisher,normalized_fisher,effective_dimensions])\n",
        "np.save(\"/content/drive/MyDrive/Colab Notebooks/Circuit_2_fne.npy\", fne)"
      ]
    },
    {
      "cell_type": "code",
      "execution_count": null,
      "metadata": {
        "colab": {
          "base_uri": "https://localhost:8080/",
          "height": 236
        },
        "id": "tzZ8LFApD4L_",
        "outputId": "be6380ed-dbce-4cd9-a6d5-ec395e6fe848"
      },
      "outputs": [
        {
          "ename": "NameError",
          "evalue": "ignored",
          "output_type": "error",
          "traceback": [
            "\u001b[0;31m---------------------------------------------------------------------------\u001b[0m",
            "\u001b[0;31mNameError\u001b[0m                                 Traceback (most recent call last)",
            "\u001b[0;32m<ipython-input-1-31ca35513226>\u001b[0m in \u001b[0;36m<cell line: 13>\u001b[0;34m()\u001b[0m\n\u001b[1;32m     11\u001b[0m \u001b[0;34m\u001b[0m\u001b[0m\n\u001b[1;32m     12\u001b[0m \u001b[0;31m# load data\u001b[0m\u001b[0;34m\u001b[0m\u001b[0;34m\u001b[0m\u001b[0m\n\u001b[0;32m---> 13\u001b[0;31m \u001b[0mfhat_classical\u001b[0m \u001b[0;34m=\u001b[0m \u001b[0mnormalized_fisher\u001b[0m\u001b[0;34m\u001b[0m\u001b[0;34m\u001b[0m\u001b[0m\n\u001b[0m\u001b[1;32m     14\u001b[0m \u001b[0mfhat_easy_qnn\u001b[0m \u001b[0;34m=\u001b[0m \u001b[0mnormalized_fisher\u001b[0m\u001b[0;34m\u001b[0m\u001b[0;34m\u001b[0m\u001b[0m\n\u001b[1;32m     15\u001b[0m \u001b[0mfhat_qnn\u001b[0m \u001b[0;34m=\u001b[0m \u001b[0mnormalized_fisher\u001b[0m\u001b[0;34m\u001b[0m\u001b[0;34m\u001b[0m\u001b[0m\n",
            "\u001b[0;31mNameError\u001b[0m: name 'normalized_fisher' is not defined"
          ]
        }
      ],
      "source": [
        "import numpy as np\n",
        "import matplotlib.pyplot as plt\n",
        "from scipy import interpolate\n",
        "\n",
        "# This code generates the distribution of eigenvalues plot in the main manuscript\n",
        "\n",
        "# colors:\n",
        "rooi = np.array([255, 29, 0])/255\n",
        "blou = np.array([0, 150, 236])/255\n",
        "groen = np.array([0,208,0])/255\n",
        "\n",
        "# load data\n",
        "fhat_classical = normalized_fisher\n",
        "fhat_easy_qnn = normalized_fisher\n",
        "fhat_qnn = normalized_fisher\n",
        "\n",
        "e1=[]\n",
        "e2=[]\n",
        "e3=[]\n",
        "\n",
        "# get the eigenvalues for each sample\n",
        "for i in range(100):\n",
        "    e1.append(np.linalg.eigh(fhat_classical[i])[0])\n",
        "    e2.append(np.linalg.eigh(fhat_easy_qnn[i])[0])\n",
        "    e3.append(np.linalg.eigh(fhat_qnn[i])[0])\n",
        "\n",
        "\n",
        "# take the average of the eigenvalues\n",
        "e1 = np.average(e1, axis=0)\n",
        "e2 = np.average(e2, axis=0)\n",
        "e3 = np.average(e3, axis=0)\n",
        "\n",
        "plt.figure(figsize=(14,4))\n",
        "plt.subplot(1,3,1)\n",
        "plt.title('Classical neural network')\n",
        "counts, bins = np.histogram(e1, bins=np.linspace(np.min(e1), np.max(e1), 40))\n",
        "mid_points = (bins[1:] + bins[:-1])/2\n",
        "x1, y1 = mid_points, counts/np.sum(counts)\n",
        "plt.ylim(0)\n",
        "\n",
        "# smooth the plot\n",
        "\n",
        "x_new = np.linspace(np.min(x1), np.max(x1), 10)\n",
        "a_BSpline = interpolate.make_interp_spline(x1, y1)\n",
        "y_new = a_BSpline(x_new)\n",
        "plt.plot(x_new, y_new, color=rooi)\n",
        "plt.ylabel('density')\n",
        "\n",
        "###########\n",
        "counts, bins = np.histogram(e2, bins=np.linspace(np.min(e2), np.max(e2), 40))\n",
        "mid_points = (bins[1:] + bins[:-1])/2\n",
        "x2, y2 = mid_points, counts/np.sum(counts)\n",
        "\n",
        "plt.subplot(1,3,2)\n",
        "plt.title('Easy quantum model')\n",
        "plt.ylim((0,1))\n",
        "x_new = np.linspace(np.min(x2), np.max(x2), 10)\n",
        "a_BSpline = interpolate.make_interp_spline(x2, y2)\n",
        "y_new = a_BSpline(x_new)\n",
        "plt.plot(x_new, y_new, color = blou)\n",
        "plt.xlabel('value of the eigenvalues')\n",
        "#########\n",
        "counts, bins = np.histogram(e3, bins=np.linspace(np.min(e3), np.max(e3), 40))\n",
        "mid_points = (bins[1:] + bins[:-1])/2\n",
        "x3, y3 = mid_points, counts/np.sum(counts)\n",
        "plt.subplot(1,3,3)\n",
        "plt.title('Quantum neural network')\n",
        "plt.ylim(0)\n",
        "x_new = np.linspace(np.min(x3), np.max(x3), 10)\n",
        "a_BSpline = interpolate.make_interp_spline(x3, y3)\n",
        "y_new = a_BSpline(x_new)\n",
        "plt.plot(x_new, y_new, color = groen)\n",
        "plt.savefig('fisher_3comp_in4_zoomed_out_only.eps', format='eps', dpi=1000)\n",
        "plt.show()\n",
        "\n",
        "# repeat the process for just the eigenvalues < 1\n",
        "\n",
        "###############################################################\n",
        "e11 = []\n",
        "for i in range(len(e1)):\n",
        "    if e1[i] < 1:\n",
        "        e11.append(e1[i])\n",
        "\n",
        "e22 = []\n",
        "for i in range(len(e2)):\n",
        "    if e2[i] >0 and e2[i] <1:\n",
        "        e22.append(e2[i])\n",
        "\n",
        "e33 = []\n",
        "for i in range(len(e3)):\n",
        "    if e3[i] >0 and e3[i] <1:\n",
        "        e33.append(e3[i])\n",
        "\n",
        "plt.figure(figsize=(14,4))\n",
        "plt.subplot(1,3,1)\n",
        "plt.title('Classical neural network')\n",
        "counts, bins = np.histogram(e11, bins=np.linspace(np.min(e11), np.max(e11), 40))\n",
        "mid_points = (bins[1:] + bins[:-1])/2\n",
        "x1, y1 = mid_points, counts/np.sum(counts)\n",
        "plt.ylim((0,1))\n",
        "plt.xlim((0,1))\n",
        "x_new = np.linspace(np.min(x1), np.max(x1), 10)\n",
        "a_BSpline = interpolate.make_interp_spline(x1, y1)\n",
        "y_new = a_BSpline(x_new)\n",
        "plt.ylabel('density')\n",
        "plt.plot(x_new, y_new, color=rooi)\n",
        "\n",
        "###########\n",
        "counts, bins = np.histogram(e22, bins=np.linspace(np.min(e22), np.max(e22), 40))\n",
        "mid_points = (bins[1:] + bins[:-1])/2\n",
        "x2, y2 = mid_points, counts/np.sum(counts)\n",
        "\n",
        "plt.subplot(1,3,2)\n",
        "plt.ylim((0,1))\n",
        "plt.xlim((0,1))\n",
        "x_new = np.linspace(np.min(x2), np.max(x2), 10)\n",
        "a_BSpline = interpolate.make_interp_spline(x2, y2)\n",
        "y_new = a_BSpline(x_new)\n",
        "plt.title('Easy quantum model')\n",
        "plt.xlabel('value of the eigenvalues')\n",
        "plt.plot(x_new, y_new, color=blou)\n",
        "\n",
        "#########\n",
        "counts, bins = np.histogram(e33, bins=np.linspace(np.min(e33), np.max(e33), 40))\n",
        "mid_points = (bins[1:] + bins[:-1])/2\n",
        "x, y = mid_points, counts/np.sum(counts)\n",
        "\n",
        "plt.subplot(1,3,3)\n",
        "x_new = np.linspace(np.min(x), np.max(x), 10)\n",
        "a_BSpline = interpolate.make_interp_spline(x, y)\n",
        "y_new = a_BSpline(x_new)\n",
        "plt.ylim((0,1))\n",
        "plt.xlim((0,1))\n",
        "plt.plot(x_new, y_new, color=groen)\n",
        "plt.title('Quantum neural network')\n",
        "plt.savefig('fisher_3comp_in4_zoomed_in_only.eps', format='eps', dpi=1000)\n",
        "plt.show()"
      ]
    },
    {
      "cell_type": "code",
      "execution_count": null,
      "metadata": {
        "colab": {
          "base_uri": "https://localhost:8080/",
          "height": 803
        },
        "id": "e9hZEpqLEwzk",
        "outputId": "4c4f9d9b-f269-49c2-d0c5-53ceb5091595"
      },
      "outputs": [
        {
          "data": {
            "image/png": "[encoded data removed]",
            "text/plain": [
              "<Figure size 1400x400 with 3 Axes>"
            ]
          },
          "metadata": {},
          "output_type": "display_data"
        },
        {
          "data": {
            "image/png": "[encoded data removed]",
            "text/plain": [
              "<Figure size 1400x400 with 3 Axes>"
            ]
          },
          "metadata": {},
          "output_type": "display_data"
        }
      ],
      "source": [
        "\n",
        "\n",
        "plt.figure(figsize=(14,4))\n",
        "plt.subplot(1,3,1)\n",
        "plt.title('Classical neural network')\n",
        "counts, bins = np.histogram(e1, bins=np.linspace(np.min(e1), np.max(e1), 40))\n",
        "cumulative = np.cumsum(counts)/np.sum(counts)\n",
        "# plot the cumulative function\n",
        "plt.plot(bins[:-1], cumulative, c=rooi)\n",
        "plt.ylim((0,1))\n",
        "plt.ylabel('cumulative density')\n",
        "\n",
        "###########\n",
        "counts, bins = np.histogram(e2, bins=np.linspace(np.min(e2), np.max(e2), 40))\n",
        "plt.subplot(1,3,2)\n",
        "plt.title('Easy quantum model')\n",
        "plt.ylim((0,1))\n",
        "cumulative = np.cumsum(counts)/np.sum(counts)\n",
        "# plot the cumulative function\n",
        "plt.plot(bins[:-1], cumulative, c=blou)\n",
        "plt.xlabel('value of the eigenvalues')\n",
        "#########\n",
        "counts, bins = np.histogram(e3, bins=np.linspace(np.min(e3), np.max(e3), 40))\n",
        "plt.subplot(1,3,3)\n",
        "plt.title('Quantum neural network')\n",
        "plt.ylim((0,1))\n",
        "cumulative = np.cumsum(counts)/np.sum(counts)\n",
        "# plot the cumulative function\n",
        "plt.plot(bins[:-1], cumulative, c=groen)\n",
        "#plt.savefig('fisher_3comp_in4_zoomed_out_only.eps', format='eps', dpi=1000)\n",
        "plt.show()\n",
        "\n",
        "# repeat the process for just the eigenvalues < 1\n",
        "\n",
        "###############################################################\n",
        "e11 = []\n",
        "for i in range(len(e1)):\n",
        "    if e1[i] < 1:\n",
        "        e11.append(e1[i])\n",
        "\n",
        "e22 = []\n",
        "for i in range(len(e2)):\n",
        "    if e2[i] >0 and e2[i] <1:\n",
        "        e22.append(e2[i])\n",
        "\n",
        "e33 = []\n",
        "for i in range(len(e3)):\n",
        "    if e3[i] >0 and e3[i] <1:\n",
        "        e33.append(e3[i])\n",
        "\n",
        "plt.figure(figsize=(14,4))\n",
        "plt.subplot(1,3,1)\n",
        "plt.title('Classical neural network')\n",
        "counts, bins = np.histogram(e11, bins=np.linspace(np.min(e11), np.max(e11), 40))\n",
        "cumulative = np.cumsum(counts)/np.sum(counts)\n",
        "# plot the cumulative function\n",
        "plt.plot(bins[:-1], cumulative, c=rooi)\n",
        "plt.ylim((0,1))\n",
        "plt.ylabel('density')\n",
        "\n",
        "###########\n",
        "counts, bins = np.histogram(e22, bins=np.linspace(np.min(e22), np.max(e22), 40))\n",
        "plt.subplot(1,3,2)\n",
        "plt.ylim((0,1))\n",
        "cumulative = np.cumsum(counts)/np.sum(counts)\n",
        "# plot the cumulative function\n",
        "plt.plot(bins[:-1], cumulative, c=blou)\n",
        "plt.title('Easy quantum model')\n",
        "plt.xlabel('value of the eigenvalues')\n",
        "\n",
        "\n",
        "#########\n",
        "counts, bins = np.histogram(e33, bins=np.linspace(np.min(e33), np.max(e33), 40))\n",
        "plt.subplot(1,3,3)\n",
        "cumulative = np.cumsum(counts)/np.sum(counts)\n",
        "# plot the cumulative function\n",
        "plt.plot(bins[:-1], cumulative, c=groen)\n",
        "plt.ylim((0,1))\n",
        "\n",
        "plt.title('Quantum neural network')\n",
        "plt.savefig('cum_plot.eps', format='eps', dpi=1000)\n",
        "plt.show()"
      ]
    },
    {
      "cell_type": "code",
      "execution_count": null,
      "metadata": {
        "id": "PVe0uY77E_1Z"
      },
      "outputs": [],
      "source": []
    }
  ],
  "metadata": {
    "colab": {
      "provenance": []
    },
    "kernelspec": {
      "display_name": "Python 3",
      "name": "python3"
    },
    "language_info": {
      "name": "python"
    },
    "widgets": {
      "application/vnd.jupyter.widget-state+json": {
        "209e280c5415413aae55c97c2376b6c9": {
          "model_module": "@jupyter-widgets/base",
          "model_module_version": "1.2.0",
          "model_name": "LayoutModel",
          "state": {
            "_model_module": "@jupyter-widgets/base",
            "_model_module_version": "1.2.0",
            "_model_name": "LayoutModel",
            "_view_count": null,
            "_view_module": "@jupyter-widgets/base",
            "_view_module_version": "1.2.0",
            "_view_name": "LayoutView",
            "align_content": null,
            "align_items": null,
            "align_self": null,
            "border": null,
            "bottom": null,
            "display": null,
            "flex": null,
            "flex_flow": null,
            "grid_area": null,
            "grid_auto_columns": null,
            "grid_auto_flow": null,
            "grid_auto_rows": null,
            "grid_column": null,
            "grid_gap": null,
            "grid_row": null,
            "grid_template_areas": null,
            "grid_template_columns": null,
            "grid_template_rows": null,
            "height": null,
            "justify_content": null,
            "justify_items": null,
            "left": null,
            "margin": null,
            "max_height": null,
            "max_width": null,
            "min_height": null,
            "min_width": null,
            "object_fit": null,
            "object_position": null,
            "order": null,
            "overflow": null,
            "overflow_x": null,
            "overflow_y": null,
            "padding": null,
            "right": null,
            "top": null,
            "visibility": null,
            "width": null
          }
        },
        "34d2a2ce7c88479faf69afe46992acee": {
          "model_module": "@jupyter-widgets/controls",
          "model_module_version": "1.5.0",
          "model_name": "HTMLModel",
          "state": {
            "_dom_classes": [],
            "_model_module": "@jupyter-widgets/controls",
            "_model_module_version": "1.5.0",
            "_model_name": "HTMLModel",
            "_view_count": null,
            "_view_module": "@jupyter-widgets/controls",
            "_view_module_version": "1.5.0",
            "_view_name": "HTMLView",
            "description": "",
            "description_tooltip": null,
            "layout": "IPY_MODEL_d25edab127e34ffb9de8dfb221485739",
            "placeholder": "​",
            "style": "IPY_MODEL_d01b7affef174533b12d8d4e865f9671",
            "value": " 100/100 [3:42:03&lt;00:00, 135.16s/it]"
          }
        },
        "5a874ed306364807be3e45a79f77801b": {
          "model_module": "@jupyter-widgets/base",
          "model_module_version": "1.2.0",
          "model_name": "LayoutModel",
          "state": {
            "_model_module": "@jupyter-widgets/base",
            "_model_module_version": "1.2.0",
            "_model_name": "LayoutModel",
            "_view_count": null,
            "_view_module": "@jupyter-widgets/base",
            "_view_module_version": "1.2.0",
            "_view_name": "LayoutView",
            "align_content": null,
            "align_items": null,
            "align_self": null,
            "border": null,
            "bottom": null,
            "display": null,
            "flex": null,
            "flex_flow": null,
            "grid_area": null,
            "grid_auto_columns": null,
            "grid_auto_flow": null,
            "grid_auto_rows": null,
            "grid_column": null,
            "grid_gap": null,
            "grid_row": null,
            "grid_template_areas": null,
            "grid_template_columns": null,
            "grid_template_rows": null,
            "height": null,
            "justify_content": null,
            "justify_items": null,
            "left": null,
            "margin": null,
            "max_height": null,
            "max_width": null,
            "min_height": null,
            "min_width": null,
            "object_fit": null,
            "object_position": null,
            "order": null,
            "overflow": null,
            "overflow_x": null,
            "overflow_y": null,
            "padding": null,
            "right": null,
            "top": null,
            "visibility": null,
            "width": null
          }
        },
        "5b8bd25d3e4746b5a90d9b1b9baa040e": {
          "model_module": "@jupyter-widgets/base",
          "model_module_version": "1.2.0",
          "model_name": "LayoutModel",
          "state": {
            "_model_module": "@jupyter-widgets/base",
            "_model_module_version": "1.2.0",
            "_model_name": "LayoutModel",
            "_view_count": null,
            "_view_module": "@jupyter-widgets/base",
            "_view_module_version": "1.2.0",
            "_view_name": "LayoutView",
            "align_content": null,
            "align_items": null,
            "align_self": null,
            "border": null,
            "bottom": null,
            "display": null,
            "flex": null,
            "flex_flow": null,
            "grid_area": null,
            "grid_auto_columns": null,
            "grid_auto_flow": null,
            "grid_auto_rows": null,
            "grid_column": null,
            "grid_gap": null,
            "grid_row": null,
            "grid_template_areas": null,
            "grid_template_columns": null,
            "grid_template_rows": null,
            "height": null,
            "justify_content": null,
            "justify_items": null,
            "left": null,
            "margin": null,
            "max_height": null,
            "max_width": null,
            "min_height": null,
            "min_width": null,
            "object_fit": null,
            "object_position": null,
            "order": null,
            "overflow": null,
            "overflow_x": null,
            "overflow_y": null,
            "padding": null,
            "right": null,
            "top": null,
            "visibility": null,
            "width": null
          }
        },
        "61f99a04d7bb4da7824806e24a56cd7a": {
          "model_module": "@jupyter-widgets/controls",
          "model_module_version": "1.5.0",
          "model_name": "FloatProgressModel",
          "state": {
            "_dom_classes": [],
            "_model_module": "@jupyter-widgets/controls",
            "_model_module_version": "1.5.0",
            "_model_name": "FloatProgressModel",
            "_view_count": null,
            "_view_module": "@jupyter-widgets/controls",
            "_view_module_version": "1.5.0",
            "_view_name": "ProgressView",
            "bar_style": "success",
            "description": "",
            "description_tooltip": null,
            "layout": "IPY_MODEL_209e280c5415413aae55c97c2376b6c9",
            "max": 100,
            "min": 0,
            "orientation": "horizontal",
            "style": "IPY_MODEL_b46d0075f3744d44b30def61163a6017",
            "value": 100
          }
        },
        "76796000b24e4b52a0c0b8d8294453e7": {
          "model_module": "@jupyter-widgets/controls",
          "model_module_version": "1.5.0",
          "model_name": "HBoxModel",
          "state": {
            "_dom_classes": [],
            "_model_module": "@jupyter-widgets/controls",
            "_model_module_version": "1.5.0",
            "_model_name": "HBoxModel",
            "_view_count": null,
            "_view_module": "@jupyter-widgets/controls",
            "_view_module_version": "1.5.0",
            "_view_name": "HBoxView",
            "box_style": "",
            "children": [
              "IPY_MODEL_bcab7d5d5f644d61889bf8ad95c582b1",
              "IPY_MODEL_61f99a04d7bb4da7824806e24a56cd7a",
              "IPY_MODEL_34d2a2ce7c88479faf69afe46992acee"
            ],
            "layout": "IPY_MODEL_5b8bd25d3e4746b5a90d9b1b9baa040e"
          }
        },
        "b46d0075f3744d44b30def61163a6017": {
          "model_module": "@jupyter-widgets/controls",
          "model_module_version": "1.5.0",
          "model_name": "ProgressStyleModel",
          "state": {
            "_model_module": "@jupyter-widgets/controls",
            "_model_module_version": "1.5.0",
            "_model_name": "ProgressStyleModel",
            "_view_count": null,
            "_view_module": "@jupyter-widgets/base",
            "_view_module_version": "1.2.0",
            "_view_name": "StyleView",
            "bar_color": null,
            "description_width": ""
          }
        },
        "bcab7d5d5f644d61889bf8ad95c582b1": {
          "model_module": "@jupyter-widgets/controls",
          "model_module_version": "1.5.0",
          "model_name": "HTMLModel",
          "state": {
            "_dom_classes": [],
            "_model_module": "@jupyter-widgets/controls",
            "_model_module_version": "1.5.0",
            "_model_name": "HTMLModel",
            "_view_count": null,
            "_view_module": "@jupyter-widgets/controls",
            "_view_module_version": "1.5.0",
            "_view_name": "HTMLView",
            "description": "",
            "description_tooltip": null,
            "layout": "IPY_MODEL_5a874ed306364807be3e45a79f77801b",
            "placeholder": "​",
            "style": "IPY_MODEL_c4efae8371a94609976d93b7a85b2bc3",
            "value": "100%"
          }
        },
        "c4efae8371a94609976d93b7a85b2bc3": {
          "model_module": "@jupyter-widgets/controls",
          "model_module_version": "1.5.0",
          "model_name": "DescriptionStyleModel",
          "state": {
            "_model_module": "@jupyter-widgets/controls",
            "_model_module_version": "1.5.0",
            "_model_name": "DescriptionStyleModel",
            "_view_count": null,
            "_view_module": "@jupyter-widgets/base",
            "_view_module_version": "1.2.0",
            "_view_name": "StyleView",
            "description_width": ""
          }
        },
        "d01b7affef174533b12d8d4e865f9671": {
          "model_module": "@jupyter-widgets/controls",
          "model_module_version": "1.5.0",
          "model_name": "DescriptionStyleModel",
          "state": {
            "_model_module": "@jupyter-widgets/controls",
            "_model_module_version": "1.5.0",
            "_model_name": "DescriptionStyleModel",
            "_view_count": null,
            "_view_module": "@jupyter-widgets/base",
            "_view_module_version": "1.2.0",
            "_view_name": "StyleView",
            "description_width": ""
          }
        },
        "d25edab127e34ffb9de8dfb221485739": {
          "model_module": "@jupyter-widgets/base",
          "model_module_version": "1.2.0",
          "model_name": "LayoutModel",
          "state": {
            "_model_module": "@jupyter-widgets/base",
            "_model_module_version": "1.2.0",
            "_model_name": "LayoutModel",
            "_view_count": null,
            "_view_module": "@jupyter-widgets/base",
            "_view_module_version": "1.2.0",
            "_view_name": "LayoutView",
            "align_content": null,
            "align_items": null,
            "align_self": null,
            "border": null,
            "bottom": null,
            "display": null,
            "flex": null,
            "flex_flow": null,
            "grid_area": null,
            "grid_auto_columns": null,
            "grid_auto_flow": null,
            "grid_auto_rows": null,
            "grid_column": null,
            "grid_gap": null,
            "grid_row": null,
            "grid_template_areas": null,
            "grid_template_columns": null,
            "grid_template_rows": null,
            "height": null,
            "justify_content": null,
            "justify_items": null,
            "left": null,
            "margin": null,
            "max_height": null,
            "max_width": null,
            "min_height": null,
            "min_width": null,
            "object_fit": null,
            "object_position": null,
            "order": null,
            "overflow": null,
            "overflow_x": null,
            "overflow_y": null,
            "padding": null,
            "right": null,
            "top": null,
            "visibility": null,
            "width": null
          }
        }
      }
    }
  },
  "nbformat": 4,
  "nbformat_minor": 0
}
