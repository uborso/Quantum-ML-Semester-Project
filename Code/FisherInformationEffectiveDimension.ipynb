{
  "cells": [
    {
      "cell_type": "markdown",
      "metadata": {},
      "source": [
        "# Fisher Information and Effective Dimension\n",
        "\n",
        "This Jupyter notebook was created by [Umberto Borso](https://www.linkedin.com/in/umberto-borso-1990a11a1/) and is part of the Semester Project titled *\"Quantum Advantage in Machine Learning: Investigating Entanglement and Quantum Feature Maps in Neural Networks\"*. This nootebook contains part of the code used to analyze how the design choices of different Quantum feature maps and Variational Circuits affect the performance of a Quantum Neural Network in terms of Fisher Information and Effective Dimension. "
      ]
    },
    {
      "cell_type": "markdown",
      "metadata": {},
      "source": [
        "## Library Inclusions\n",
        "\n",
        "**Important Observation**: For this project, we have incorporated a specialized version of the `qiskit_machine_learning` library, tailored specifically to align with the project requirements. The original version of this library is part of the Qiskit community and can be accessed [here](git@github.com:qiskit-community/qiskit-machine-learning.git). Our customized version, which has been altered for this particular project, is available [here](https://github.com/uborso/qiskit-machine-learning.git). This modified repository has been conveniently integrated into the current repository as a submodule."
      ]
    },
    {
      "cell_type": "code",
      "execution_count": 2,
      "metadata": {
        "id": "639omFCkKpsm"
      },
      "outputs": [],
      "source": [
        "import matplotlib.pyplot as plt\n",
        "import numpy as np\n",
        "\n",
        "from qiskit import QuantumCircuit\n",
        "from qiskit.algorithms.optimizers import COBYLA\n",
        "from qiskit.circuit.library import RealAmplitudes, ExcitationPreserving, PauliFeatureMap,EfficientSU2, PauliTwoDesign\n",
        "\n",
        "import sys\n",
        "sys.path.insert(0, \"./external/qiskit-machine-learning/\")\n",
        "from qiskit_machine_learning.neural_networks import EffectiveDimension\n",
        "from qiskit_machine_learning.neural_networks import SamplerQNN"
      ]
    },
    {
      "cell_type": "markdown",
      "metadata": {},
      "source": [
        "## Setting up QNN parameters\n",
        "\n",
        "In the following cells we setup the specific parameters used in the Monte Carlo sampling process for estimating the Fisher information matrix and the effective dimension of the QNNs, providing insights into their capacity and trainability.\n",
        "\n",
        "- `n` (Dataset Sizes): An array ranging from 1,000 to 1,000,000, used to calculate the effective dimension of QNNs across various data volumes.\n",
        "\n",
        "- `num_qubits` (Number of Qubits): Set to 4, indicating the size of the quantum circuits in the QNN models.\n",
        "\n",
        "- `num_input_samples` (Number of Input Samples): Fixed at 100, this number defines how many sets of input data samples, drawn from a Gaussian distribution, are used in the analysis.\n",
        "\n",
        "- `num_weight_samples` (Number of Weight Samples): Also 100, determining the number of parameter sample sets for exploring the QNN models' parameter space."
      ]
    },
    {
      "cell_type": "code",
      "execution_count": 25,
      "metadata": {
        "id": "wGpVStgb8J4F"
      },
      "outputs": [],
      "source": [
        "n = [1000, 2000, 8000, 10000, 40000, 60000, 100000, 150000, 200000, 500000, 1000000]\n",
        "num_qubits = 4\n",
        "\n",
        "# we can set the total number of input samples and weight samples for random selection\n",
        "num_input_samples = 100\n",
        "num_weight_samples = 100\n"
      ]
    },
    {
      "cell_type": "markdown",
      "metadata": {},
      "source": [
        "# Defining the QNN model\n",
        "\n",
        "This code sets up a Quantum Neural Network (QNN) by specifying and combining various feature maps and variational circuits, followed by defining a post-processing function and creating the QNN model.\n",
        "\n",
        "- **Define Feature Maps and Variational Circuits**: Two dictionaries, `feature_maps` and `variational_circuits`, are created. Each contains different types of quantum feature maps (like `PauliFeatureMap`) and variational circuits (like `PauliTwoDesign`, `ExcitationPreserving`, etc.), respectively, specified for a 4-qubit system.\n",
        "\n",
        "- **Select Specific Feature Map and Variational Circuit**: The code selects a specific feature map (ex. `FM3`) and a variational circuit (ex. `VC1`) from these dictionaries for the analysis.\n",
        "\n",
        "- **Construct Quantum Circuit**: A quantum circuit (`qc`) is created by appending the chosen feature map and variational circuit to it. This forms the core of the QNN.\n",
        "\n",
        "- **Define Parity Function**: A parity function is defined to map bitstrings to 0 or 1. This function is used for post-processing the output of the QNN.\n",
        "\n",
        "- **Construct QNN**: A `SamplerQNN` is constructed with the created quantum circuit, specifying input and weight parameters, the parity function for interpretation, and the output shape. The output shape is set to 2, corresponding to the number of classes in the parity mapping.\n",
        "\n",
        "- **Effective Dimension Calculation**: The code then sets up an `EffectiveDimension` object (`global_ed`), using the QNN, number of weight samples, and number of input samples. This is used for analyzing the model's capacity."
      ]
    },
    {
      "cell_type": "code",
      "execution_count": null,
      "metadata": {},
      "outputs": [],
      "source": [
        "feature_maps = {\n",
        "    'FM1': PauliFeatureMap(4, reps=1, paulis=['Z']),\n",
        "    'FM2': PauliFeatureMap(4, reps=1, paulis=['ZZ']),\n",
        "    'FM3': PauliFeatureMap(4, reps=1, paulis=['Z','ZZ']),\n",
        "    'FM4': PauliFeatureMap(4, reps=1, paulis=['Z','XX']),\n",
        "    'FM5': PauliFeatureMap(4, reps=1, paulis=['Y','ZX']),\n",
        "    'FM6': PauliFeatureMap(4, reps=1, paulis=['Z','ZZZ']),\n",
        "    'FM7': PauliFeatureMap(4, reps=1, paulis=['Z','YY','ZZZ']),\n",
        "}\n",
        "\n",
        "variational_circuits = {\n",
        "    'VC1': PauliTwoDesign(num_qubits=4, reps=9, seed=None, insert_barriers=False, name='PauliTwoDesign'),\n",
        "    'VC2': ExcitationPreserving(4, reps=5, insert_barriers=True, entanglement='circular',skip_final_rotation_layer=True),\n",
        "    'VC3': ExcitationPreserving(4, reps=4, insert_barriers=True, entanglement='full'),\n",
        "    'VC4': RealAmplitudes(4, reps=9, insert_barriers=True, entanglement='full'),\n",
        "    'VC5': ExcitationPreserving(4, reps=5, insert_barriers=True, entanglement='pairwise',skip_final_rotation_layer=False),\n",
        "    'VC6': ExcitationPreserving(4, reps=5, insert_barriers=True, entanglement='linear'),\n",
        "    'VC7': EfficientSU2(4, su2_gates=['rx', 'y'], entanglement='circular', reps=9),\n",
        "    'VC8': RealAmplitudes(4, reps=9, insert_barriers=True, entanglement='linear'),\n",
        "    'VC9': ExcitationPreserving(4, reps=5, insert_barriers=True, entanglement='sca',skip_final_rotation_layer=True)\n",
        "}"
      ]
    },
    {
      "cell_type": "code",
      "execution_count": 26,
      "metadata": {
        "colab": {
          "base_uri": "https://localhost:8080/"
        },
        "id": "HhZ074rY_WWi",
        "outputId": "a43ebd0d-52c2-4e0a-eb2d-ecd8ec241605"
      },
      "outputs": [
        {
          "name": "stdout",
          "output_type": "stream",
          "text": [
            "40\n"
          ]
        }
      ],
      "source": [
        "# choose a feature map\n",
        "fm_label = 'FM3'\n",
        "feature_map = feature_maps[fm_label]\n",
        "# choose a variational circuit\n",
        "vc_label = 'VC1'\n",
        "ansatz = variational_circuits[vc_label]\n",
        "\n",
        "qc = QuantumCircuit(num_qubits)\n",
        "qc.append(feature_map, range(num_qubits))\n",
        "qc.append(ansatz, range(num_qubits))\n",
        "\n",
        "# parity maps bitstrings to 0 or 1\n",
        "def parity(x):\n",
        "    return \"{:b}\".format(x).count(\"1\") % 2\n",
        "\n",
        "\n",
        "output_shape = 2  # corresponds to the number of classes, possible outcomes of the (parity) mapping.\n",
        "# construct QNN\n",
        "qnn = SamplerQNN(\n",
        "    circuit=qc,\n",
        "    input_params=feature_map.parameters,\n",
        "    weight_params=ansatz.parameters,\n",
        "    interpret=parity,\n",
        "    output_shape=output_shape,\n",
        "    sparse=False,\n",
        ")\n",
        "\n",
        "\n",
        "global_ed = EffectiveDimension(\n",
        "    qnn=qnn, weight_samples=num_weight_samples, input_samples=num_input_samples\n",
        ")\n",
        "\n",
        "d = qnn.num_weights"
      ]
    },
    {
      "cell_type": "markdown",
      "metadata": {},
      "source": [
        "# Evaluate Model Performance\n",
        "\n",
        "Here we focus on evaluating a Quantum Neural Network (QNN) model. The key steps include:\n",
        "\n",
        "- **Monte Carlo Sampling**: Executes `global_ed.run_monte_carlo()` to obtain the model's Jacobian matrix and outputs for various input and weight sample combinations. Note this step may require about ~20 mins on a standard laptop.\n",
        "\n",
        "- **Compute Fisher Information**: Utilizes `global_ed.get_fisher_information()` to calculate Fisher information matrices from the gradients and outputs. Normalizes these matrices using `global_ed.get_normalized_fisher()`.\n",
        "\n",
        "- **Calculate Effective Dimension**: Computes the model's effective dimension for different dataset sizes (`n`) through `global_ed._get_effective_dimension()`.\n",
        "\n",
        "- **Save and Plot Results**: The calculated metrics (Fisher information, normalized Fisher information, and effective dimensions) are saved for further analysis. The code also plots the normalized effective dimension to visualize the model's scaling with dataset size."
      ]
    },
    {
      "cell_type": "code",
      "execution_count": null,
      "metadata": {
        "id": "GtXljwXZDpFB"
      },
      "outputs": [],
      "source": [
        "grads, output = global_ed.run_monte_carlo()\n",
        "\n",
        "np.save(\"./NPY_files/\" + vc_label + \"_grads.npy\", grads)\n",
        "np.save(\"./NPY_files/\" + vc_label +\"_output.npy\", output)\n",
        "\n",
        "# uncomment these two lines to load previously calculated grads and outputs\n",
        "# grads = np.load(\"./NPY_files/\" + vc_label + \"_grads.npy\")\n",
        "# output = np.load(\"./NPY_files/\" + vc_label +\"_output.npy\")\n",
        "\n",
        "# compute as many fisher info. matrices as (input, params) sets\n",
        "fisher = global_ed.get_fisher_information(gradients=grads, model_outputs=output)\n",
        "\n",
        "# get normalized fisher info matrices\n",
        "normalized_fisher, _ = global_ed.get_normalized_fisher(fisher)\n",
        "\n",
        "# compute eff. dim\n",
        "effective_dimensions = global_ed._get_effective_dimension(normalized_fisher, n)\n",
        "\n",
        "# save outputs to .npy file for later processing and plotting\n",
        "fne = np.array([fisher,normalized_fisher,effective_dimensions])\n",
        "np.save(\"./NPY_files/\" + vc_label +\"_fne.npy\", fne)"
      ]
    },
    {
      "cell_type": "code",
      "execution_count": 31,
      "metadata": {
        "colab": {
          "base_uri": "https://localhost:8080/",
          "height": 240
        },
        "id": "p4_dO-pPDvUR",
        "outputId": "5cc041bb-4501-4981-c29f-d7fb920699ab"
      },
      "outputs": [
        {
          "data": {
            "image/png": "[encoded data removed]",
            "text/plain": [
              "<Figure size 640x480 with 1 Axes>"
            ]
          },
          "metadata": {},
          "output_type": "display_data"
        }
      ],
      "source": [
        "# plot the normalized effective dimension for the model\n",
        "plt.plot(n, np.array(effective_dimensions) / d)\n",
        "plt.xlabel(\"Number of data\")\n",
        "plt.ylabel(\"Normalized GLOBAL effective dimension\")\n",
        "plt.show()"
      ]
    }
  ],
  "metadata": {
    "colab": {
      "provenance": []
    },
    "kernelspec": {
      "display_name": "Python 3",
      "name": "python3"
    },
    "language_info": {
      "codemirror_mode": {
        "name": "ipython",
        "version": 3
      },
      "file_extension": ".py",
      "mimetype": "text/x-python",
      "name": "python",
      "nbconvert_exporter": "python",
      "pygments_lexer": "ipython3",
      "version": "3.9.16"
    },
    "widgets": {
      "application/vnd.jupyter.widget-state+json": {
        "209e280c5415413aae55c97c2376b6c9": {
          "model_module": "@jupyter-widgets/base",
          "model_module_version": "1.2.0",
          "model_name": "LayoutModel",
          "state": {
            "_model_module": "@jupyter-widgets/base",
            "_model_module_version": "1.2.0",
            "_model_name": "LayoutModel",
            "_view_count": null,
            "_view_module": "@jupyter-widgets/base",
            "_view_module_version": "1.2.0",
            "_view_name": "LayoutView",
            "align_content": null,
            "align_items": null,
            "align_self": null,
            "border": null,
            "bottom": null,
            "display": null,
            "flex": null,
            "flex_flow": null,
            "grid_area": null,
            "grid_auto_columns": null,
            "grid_auto_flow": null,
            "grid_auto_rows": null,
            "grid_column": null,
            "grid_gap": null,
            "grid_row": null,
            "grid_template_areas": null,
            "grid_template_columns": null,
            "grid_template_rows": null,
            "height": null,
            "justify_content": null,
            "justify_items": null,
            "left": null,
            "margin": null,
            "max_height": null,
            "max_width": null,
            "min_height": null,
            "min_width": null,
            "object_fit": null,
            "object_position": null,
            "order": null,
            "overflow": null,
            "overflow_x": null,
            "overflow_y": null,
            "padding": null,
            "right": null,
            "top": null,
            "visibility": null,
            "width": null
          }
        },
        "34d2a2ce7c88479faf69afe46992acee": {
          "model_module": "@jupyter-widgets/controls",
          "model_module_version": "1.5.0",
          "model_name": "HTMLModel",
          "state": {
            "_dom_classes": [],
            "_model_module": "@jupyter-widgets/controls",
            "_model_module_version": "1.5.0",
            "_model_name": "HTMLModel",
            "_view_count": null,
            "_view_module": "@jupyter-widgets/controls",
            "_view_module_version": "1.5.0",
            "_view_name": "HTMLView",
            "description": "",
            "description_tooltip": null,
            "layout": "IPY_MODEL_d25edab127e34ffb9de8dfb221485739",
            "placeholder": "​",
            "style": "IPY_MODEL_d01b7affef174533b12d8d4e865f9671",
            "value": " 100/100 [3:42:03&lt;00:00, 135.16s/it]"
          }
        },
        "5a874ed306364807be3e45a79f77801b": {
          "model_module": "@jupyter-widgets/base",
          "model_module_version": "1.2.0",
          "model_name": "LayoutModel",
          "state": {
            "_model_module": "@jupyter-widgets/base",
            "_model_module_version": "1.2.0",
            "_model_name": "LayoutModel",
            "_view_count": null,
            "_view_module": "@jupyter-widgets/base",
            "_view_module_version": "1.2.0",
            "_view_name": "LayoutView",
            "align_content": null,
            "align_items": null,
            "align_self": null,
            "border": null,
            "bottom": null,
            "display": null,
            "flex": null,
            "flex_flow": null,
            "grid_area": null,
            "grid_auto_columns": null,
            "grid_auto_flow": null,
            "grid_auto_rows": null,
            "grid_column": null,
            "grid_gap": null,
            "grid_row": null,
            "grid_template_areas": null,
            "grid_template_columns": null,
            "grid_template_rows": null,
            "height": null,
            "justify_content": null,
            "justify_items": null,
            "left": null,
            "margin": null,
            "max_height": null,
            "max_width": null,
            "min_height": null,
            "min_width": null,
            "object_fit": null,
            "object_position": null,
            "order": null,
            "overflow": null,
            "overflow_x": null,
            "overflow_y": null,
            "padding": null,
            "right": null,
            "top": null,
            "visibility": null,
            "width": null
          }
        },
        "5b8bd25d3e4746b5a90d9b1b9baa040e": {
          "model_module": "@jupyter-widgets/base",
          "model_module_version": "1.2.0",
          "model_name": "LayoutModel",
          "state": {
            "_model_module": "@jupyter-widgets/base",
            "_model_module_version": "1.2.0",
            "_model_name": "LayoutModel",
            "_view_count": null,
            "_view_module": "@jupyter-widgets/base",
            "_view_module_version": "1.2.0",
            "_view_name": "LayoutView",
            "align_content": null,
            "align_items": null,
            "align_self": null,
            "border": null,
            "bottom": null,
            "display": null,
            "flex": null,
            "flex_flow": null,
            "grid_area": null,
            "grid_auto_columns": null,
            "grid_auto_flow": null,
            "grid_auto_rows": null,
            "grid_column": null,
            "grid_gap": null,
            "grid_row": null,
            "grid_template_areas": null,
            "grid_template_columns": null,
            "grid_template_rows": null,
            "height": null,
            "justify_content": null,
            "justify_items": null,
            "left": null,
            "margin": null,
            "max_height": null,
            "max_width": null,
            "min_height": null,
            "min_width": null,
            "object_fit": null,
            "object_position": null,
            "order": null,
            "overflow": null,
            "overflow_x": null,
            "overflow_y": null,
            "padding": null,
            "right": null,
            "top": null,
            "visibility": null,
            "width": null
          }
        },
        "61f99a04d7bb4da7824806e24a56cd7a": {
          "model_module": "@jupyter-widgets/controls",
          "model_module_version": "1.5.0",
          "model_name": "FloatProgressModel",
          "state": {
            "_dom_classes": [],
            "_model_module": "@jupyter-widgets/controls",
            "_model_module_version": "1.5.0",
            "_model_name": "FloatProgressModel",
            "_view_count": null,
            "_view_module": "@jupyter-widgets/controls",
            "_view_module_version": "1.5.0",
            "_view_name": "ProgressView",
            "bar_style": "success",
            "description": "",
            "description_tooltip": null,
            "layout": "IPY_MODEL_209e280c5415413aae55c97c2376b6c9",
            "max": 100,
            "min": 0,
            "orientation": "horizontal",
            "style": "IPY_MODEL_b46d0075f3744d44b30def61163a6017",
            "value": 100
          }
        },
        "76796000b24e4b52a0c0b8d8294453e7": {
          "model_module": "@jupyter-widgets/controls",
          "model_module_version": "1.5.0",
          "model_name": "HBoxModel",
          "state": {
            "_dom_classes": [],
            "_model_module": "@jupyter-widgets/controls",
            "_model_module_version": "1.5.0",
            "_model_name": "HBoxModel",
            "_view_count": null,
            "_view_module": "@jupyter-widgets/controls",
            "_view_module_version": "1.5.0",
            "_view_name": "HBoxView",
            "box_style": "",
            "children": [
              "IPY_MODEL_bcab7d5d5f644d61889bf8ad95c582b1",
              "IPY_MODEL_61f99a04d7bb4da7824806e24a56cd7a",
              "IPY_MODEL_34d2a2ce7c88479faf69afe46992acee"
            ],
            "layout": "IPY_MODEL_5b8bd25d3e4746b5a90d9b1b9baa040e"
          }
        },
        "b46d0075f3744d44b30def61163a6017": {
          "model_module": "@jupyter-widgets/controls",
          "model_module_version": "1.5.0",
          "model_name": "ProgressStyleModel",
          "state": {
            "_model_module": "@jupyter-widgets/controls",
            "_model_module_version": "1.5.0",
            "_model_name": "ProgressStyleModel",
            "_view_count": null,
            "_view_module": "@jupyter-widgets/base",
            "_view_module_version": "1.2.0",
            "_view_name": "StyleView",
            "bar_color": null,
            "description_width": ""
          }
        },
        "bcab7d5d5f644d61889bf8ad95c582b1": {
          "model_module": "@jupyter-widgets/controls",
          "model_module_version": "1.5.0",
          "model_name": "HTMLModel",
          "state": {
            "_dom_classes": [],
            "_model_module": "@jupyter-widgets/controls",
            "_model_module_version": "1.5.0",
            "_model_name": "HTMLModel",
            "_view_count": null,
            "_view_module": "@jupyter-widgets/controls",
            "_view_module_version": "1.5.0",
            "_view_name": "HTMLView",
            "description": "",
            "description_tooltip": null,
            "layout": "IPY_MODEL_5a874ed306364807be3e45a79f77801b",
            "placeholder": "​",
            "style": "IPY_MODEL_c4efae8371a94609976d93b7a85b2bc3",
            "value": "100%"
          }
        },
        "c4efae8371a94609976d93b7a85b2bc3": {
          "model_module": "@jupyter-widgets/controls",
          "model_module_version": "1.5.0",
          "model_name": "DescriptionStyleModel",
          "state": {
            "_model_module": "@jupyter-widgets/controls",
            "_model_module_version": "1.5.0",
            "_model_name": "DescriptionStyleModel",
            "_view_count": null,
            "_view_module": "@jupyter-widgets/base",
            "_view_module_version": "1.2.0",
            "_view_name": "StyleView",
            "description_width": ""
          }
        },
        "d01b7affef174533b12d8d4e865f9671": {
          "model_module": "@jupyter-widgets/controls",
          "model_module_version": "1.5.0",
          "model_name": "DescriptionStyleModel",
          "state": {
            "_model_module": "@jupyter-widgets/controls",
            "_model_module_version": "1.5.0",
            "_model_name": "DescriptionStyleModel",
            "_view_count": null,
            "_view_module": "@jupyter-widgets/base",
            "_view_module_version": "1.2.0",
            "_view_name": "StyleView",
            "description_width": ""
          }
        },
        "d25edab127e34ffb9de8dfb221485739": {
          "model_module": "@jupyter-widgets/base",
          "model_module_version": "1.2.0",
          "model_name": "LayoutModel",
          "state": {
            "_model_module": "@jupyter-widgets/base",
            "_model_module_version": "1.2.0",
            "_model_name": "LayoutModel",
            "_view_count": null,
            "_view_module": "@jupyter-widgets/base",
            "_view_module_version": "1.2.0",
            "_view_name": "LayoutView",
            "align_content": null,
            "align_items": null,
            "align_self": null,
            "border": null,
            "bottom": null,
            "display": null,
            "flex": null,
            "flex_flow": null,
            "grid_area": null,
            "grid_auto_columns": null,
            "grid_auto_flow": null,
            "grid_auto_rows": null,
            "grid_column": null,
            "grid_gap": null,
            "grid_row": null,
            "grid_template_areas": null,
            "grid_template_columns": null,
            "grid_template_rows": null,
            "height": null,
            "justify_content": null,
            "justify_items": null,
            "left": null,
            "margin": null,
            "max_height": null,
            "max_width": null,
            "min_height": null,
            "min_width": null,
            "object_fit": null,
            "object_position": null,
            "order": null,
            "overflow": null,
            "overflow_x": null,
            "overflow_y": null,
            "padding": null,
            "right": null,
            "top": null,
            "visibility": null,
            "width": null
          }
        }
      }
    }
  },
  "nbformat": 4,
  "nbformat_minor": 0
}
